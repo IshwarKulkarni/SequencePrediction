{
 "metadata": {
  "language_info": {
   "codemirror_mode": {
    "name": "ipython",
    "version": 3
   },
   "file_extension": ".py",
   "mimetype": "text/x-python",
   "name": "python",
   "nbconvert_exporter": "python",
   "pygments_lexer": "ipython3",
   "version": "3.8.5-final"
  },
  "orig_nbformat": 2,
  "kernelspec": {
   "name": "python3",
   "display_name": "Python 3.8.5 64-bit (conda)",
   "metadata": {
    "interpreter": {
     "hash": "8763f4ac5c1a7b4100283dd1ddeccfe62a6a48658ac267681dbddb733d52c0e9"
    }
   }
  }
 },
 "nbformat": 4,
 "nbformat_minor": 2,
 "cells": [
  {
   "cell_type": "code",
   "execution_count": null,
   "metadata": {},
   "outputs": [],
   "source": [
    "from dataloaders import IEXDataset\n",
    "import matplotlib.pyplot as plt\n",
    "%matplotlib inline \n",
    "\n",
    "class Namespace:\n",
    "    def __init__(self, **kwargs):\n",
    "        self.__dict__.update(kwargs)\n",
    "\n",
    "args = Namespace(IEX_token='pk_75e07a76785a412da7b5010100409c44')\n",
    "\n",
    "data = IEXDataset(args, data_dir='ticker_data', ticker='nvda',\n",
    "                  num_days_to_fetch=1, num_days_to_skip=0,\n",
    "                  input_features=[\"average\"], output_features=[\"average\"],\n",
    "                  input_seq_len=1, output_seq_len=1, frequency='15Min')\n"
   ]
  },
  {
   "cell_type": "code",
   "execution_count": 47,
   "metadata": {},
   "outputs": [
    {
     "output_type": "stream",
     "name": "stdout",
     "text": [
      "tensor([[[528.9790, 529.5513, 529.3589, 528.6096, 528.7142, 528.3917, 528.4272,\n          528.6964]]])\ntensor([[[530.3229, 530.4248, 530.8345, 529.7900, 529.4137, 529.9974, 529.2864,\n          529.5417]]])\n"
     ]
    }
   ],
   "source": [
    "import torch\n",
    "t_start = len(data) - 20\n",
    "t_end = t_start + 8\n",
    "v_start = t_end + 1\n",
    "v_end = v_start + 8\n",
    "\n",
    "ip, op = [], []\n",
    "for i in range(t_start, t_end):\n",
    "    ip.append(data[i][0])\n",
    "\n",
    "for i in range(v_start, v_end):\n",
    "    op.append(data[i][0])\n",
    "\n",
    "ip = torch.stack(ip)\n",
    "op = torch.stack(op)\n",
    "\n",
    "print(op.T * data._input_scale)\n",
    "print(ip.T * data._input_scale)\n",
    "\n",
    "checkpoint = torch.load('checkpts\\\\Dec-22-06-24-28\\\\nvda-EP_250.pt')\n",
    "model = checkpoint['model']"
   ]
  },
  {
   "cell_type": "code",
   "execution_count": 48,
   "metadata": {},
   "outputs": [
    {
     "output_type": "stream",
     "name": "stdout",
     "text": [
      "[528.9229]\n0 530.1641\n1 530.2671\n2 530.6805\n3 529.6263\n4 529.24646\n5 529.8356\n6 529.1179\n[528.979   529.55133 529.3589  528.6096  528.7142  528.39166 528.42725\n 528.6964 ]\n"
     ]
    }
   ],
   "source": [
    "print(data._input_scale)\r\n",
    "for i in range(7):\r\n",
    "    o = model((ip[i:i+1], 1))\r\n",
    "    print(i, (o.detach().numpy() * data._input_scale).squeeze()[0] )\r\n",
    "print((op.detach().numpy() * data._input_scale).squeeze())\r\n",
    "\r\n",
    "\r\n",
    "\r\n"
   ]
  },
  {
   "cell_type": "code",
   "execution_count": null,
   "metadata": {},
   "outputs": [],
   "source": []
  }
 ]
}